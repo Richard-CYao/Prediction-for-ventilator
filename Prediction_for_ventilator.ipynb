{
  "nbformat": 4,
  "nbformat_minor": 0,
  "metadata": {
    "colab": {
      "provenance": [],
      "mount_file_id": "1IMB8QO0gdpuJPRinroRhFc8EpSgSoXEH",
      "authorship_tag": "ABX9TyO2opW1EbEKPVM1LDygSZHD",
      "include_colab_link": true
    },
    "kernelspec": {
      "name": "python3",
      "display_name": "Python 3"
    },
    "language_info": {
      "name": "python"
    }
  },
  "cells": [
    {
      "cell_type": "markdown",
      "metadata": {
        "id": "view-in-github",
        "colab_type": "text"
      },
      "source": [
        "<a href=\"https://colab.research.google.com/github/Richard-CYao/Prediction-for-ventilator/blob/main/Prediction_for_ventilator.ipynb\" target=\"_parent\"><img src=\"https://colab.research.google.com/assets/colab-badge.svg\" alt=\"Open In Colab\"/></a>"
      ]
    },
    {
      "cell_type": "markdown",
      "source": [
        "I download these data from kaggle and collected them in a folder named pressure_ data. \n",
        "Before analysing, we need to know the following column information in detail:\n",
        "\n",
        "- id - globally-unique time step identifier across an entire file\n",
        "- breath_id - globally-unique time step for breaths\n",
        "- R - lung attribute indicating how restricted the airway is (in cmH2O/L/S). Physically, this is the change in pressure per change in flow (air volume per time). Intuitively, one can imagine blowing up a balloon through a straw. We can change R by changing the diameter of the straw, with higher R being harder to blow.\n",
        "- C - lung attribute indicating how compliant the lung is (in mL/cmH2O). Physically, this is the change in volume per change in pressure. Intuitively, one can imagine the same balloon example. We can change C by changing the thickness of the balloon’s latex, with higher C having thinner latex and easier to blow.\n",
        "- time_step - the actual time stamp.\n",
        "- u_in - the control input for the inspiratory solenoid valve. Ranges from 0 to 100.\n",
        "- u_out - the control input for the exploratory solenoid valve. Either 0 or 1.\n",
        "- pressure - the airway pressure measured in the respiratory circuit, measured in cmH2O."
      ],
      "metadata": {
        "id": "Hrh_1fMwylUS"
      }
    },
    {
      "cell_type": "markdown",
      "source": [
        "if you want, you can know more detail and download data from this URL:\n",
        "https://www.kaggle.com/competitions/ventilator-pressure-prediction/overview"
      ],
      "metadata": {
        "id": "AQCeggVhzjNc"
      }
    },
    {
      "cell_type": "markdown",
      "source": [
        "###Getting An Overview of the Dataset"
      ],
      "metadata": {
        "id": "4BQ6JzamybX7"
      }
    },
    {
      "cell_type": "code",
      "execution_count": null,
      "metadata": {
        "id": "P6OZtE7awjYa"
      },
      "outputs": [],
      "source": [
        "import pandas as pd\n",
        "import numpy as np\n",
        "import matplotlib.pyplot as plt"
      ]
    },
    {
      "cell_type": "code",
      "source": [
        "\n",
        "sub = pd.read_csv(\"/content/drive/MyDrive/pressure_data/sample_submission.csv\")\n",
        "df_test = pd.read_csv(\"/content/drive/MyDrive/pressure_data/test.csv\")\n",
        "df_train = pd.read_csv(\"/content/drive/MyDrive/pressure_data/train.csv\")"
      ],
      "metadata": {
        "id": "kbLIj1IFyVlk"
      },
      "execution_count": null,
      "outputs": []
    },
    {
      "cell_type": "code",
      "source": [
        "# Intercept some training data to observe\n",
        "df = df_train[df_train['breath_id'] < 5].reset_index(drop=True)\n",
        "df.head()"
      ],
      "metadata": {
        "colab": {
          "base_uri": "https://localhost:8080/",
          "height": 206
        },
        "id": "fMBaG7-l0QHa",
        "outputId": "ed9ef74c-06f7-4fe2-efa2-36fb5fa29427"
      },
      "execution_count": null,
      "outputs": [
        {
          "output_type": "execute_result",
          "data": {
            "text/plain": [
              "   id  breath_id   R   C  time_step       u_in  u_out   pressure\n",
              "0   1          1  20  50   0.000000   0.083334      0   5.837492\n",
              "1   2          1  20  50   0.033652  18.383041      0   5.907794\n",
              "2   3          1  20  50   0.067514  22.509278      0   7.876254\n",
              "3   4          1  20  50   0.101542  22.808822      0  11.742872\n",
              "4   5          1  20  50   0.135756  25.355850      0  12.234987"
            ],
            "text/html": [
              "\n",
              "  <div id=\"df-30e6d9c5-29ad-4803-b7de-f43dc1b64e25\">\n",
              "    <div class=\"colab-df-container\">\n",
              "      <div>\n",
              "<style scoped>\n",
              "    .dataframe tbody tr th:only-of-type {\n",
              "        vertical-align: middle;\n",
              "    }\n",
              "\n",
              "    .dataframe tbody tr th {\n",
              "        vertical-align: top;\n",
              "    }\n",
              "\n",
              "    .dataframe thead th {\n",
              "        text-align: right;\n",
              "    }\n",
              "</style>\n",
              "<table border=\"1\" class=\"dataframe\">\n",
              "  <thead>\n",
              "    <tr style=\"text-align: right;\">\n",
              "      <th></th>\n",
              "      <th>id</th>\n",
              "      <th>breath_id</th>\n",
              "      <th>R</th>\n",
              "      <th>C</th>\n",
              "      <th>time_step</th>\n",
              "      <th>u_in</th>\n",
              "      <th>u_out</th>\n",
              "      <th>pressure</th>\n",
              "    </tr>\n",
              "  </thead>\n",
              "  <tbody>\n",
              "    <tr>\n",
              "      <th>0</th>\n",
              "      <td>1</td>\n",
              "      <td>1</td>\n",
              "      <td>20</td>\n",
              "      <td>50</td>\n",
              "      <td>0.000000</td>\n",
              "      <td>0.083334</td>\n",
              "      <td>0</td>\n",
              "      <td>5.837492</td>\n",
              "    </tr>\n",
              "    <tr>\n",
              "      <th>1</th>\n",
              "      <td>2</td>\n",
              "      <td>1</td>\n",
              "      <td>20</td>\n",
              "      <td>50</td>\n",
              "      <td>0.033652</td>\n",
              "      <td>18.383041</td>\n",
              "      <td>0</td>\n",
              "      <td>5.907794</td>\n",
              "    </tr>\n",
              "    <tr>\n",
              "      <th>2</th>\n",
              "      <td>3</td>\n",
              "      <td>1</td>\n",
              "      <td>20</td>\n",
              "      <td>50</td>\n",
              "      <td>0.067514</td>\n",
              "      <td>22.509278</td>\n",
              "      <td>0</td>\n",
              "      <td>7.876254</td>\n",
              "    </tr>\n",
              "    <tr>\n",
              "      <th>3</th>\n",
              "      <td>4</td>\n",
              "      <td>1</td>\n",
              "      <td>20</td>\n",
              "      <td>50</td>\n",
              "      <td>0.101542</td>\n",
              "      <td>22.808822</td>\n",
              "      <td>0</td>\n",
              "      <td>11.742872</td>\n",
              "    </tr>\n",
              "    <tr>\n",
              "      <th>4</th>\n",
              "      <td>5</td>\n",
              "      <td>1</td>\n",
              "      <td>20</td>\n",
              "      <td>50</td>\n",
              "      <td>0.135756</td>\n",
              "      <td>25.355850</td>\n",
              "      <td>0</td>\n",
              "      <td>12.234987</td>\n",
              "    </tr>\n",
              "  </tbody>\n",
              "</table>\n",
              "</div>\n",
              "      <button class=\"colab-df-convert\" onclick=\"convertToInteractive('df-30e6d9c5-29ad-4803-b7de-f43dc1b64e25')\"\n",
              "              title=\"Convert this dataframe to an interactive table.\"\n",
              "              style=\"display:none;\">\n",
              "        \n",
              "  <svg xmlns=\"http://www.w3.org/2000/svg\" height=\"24px\"viewBox=\"0 0 24 24\"\n",
              "       width=\"24px\">\n",
              "    <path d=\"M0 0h24v24H0V0z\" fill=\"none\"/>\n",
              "    <path d=\"M18.56 5.44l.94 2.06.94-2.06 2.06-.94-2.06-.94-.94-2.06-.94 2.06-2.06.94zm-11 1L8.5 8.5l.94-2.06 2.06-.94-2.06-.94L8.5 2.5l-.94 2.06-2.06.94zm10 10l.94 2.06.94-2.06 2.06-.94-2.06-.94-.94-2.06-.94 2.06-2.06.94z\"/><path d=\"M17.41 7.96l-1.37-1.37c-.4-.4-.92-.59-1.43-.59-.52 0-1.04.2-1.43.59L10.3 9.45l-7.72 7.72c-.78.78-.78 2.05 0 2.83L4 21.41c.39.39.9.59 1.41.59.51 0 1.02-.2 1.41-.59l7.78-7.78 2.81-2.81c.8-.78.8-2.07 0-2.86zM5.41 20L4 18.59l7.72-7.72 1.47 1.35L5.41 20z\"/>\n",
              "  </svg>\n",
              "      </button>\n",
              "      \n",
              "  <style>\n",
              "    .colab-df-container {\n",
              "      display:flex;\n",
              "      flex-wrap:wrap;\n",
              "      gap: 12px;\n",
              "    }\n",
              "\n",
              "    .colab-df-convert {\n",
              "      background-color: #E8F0FE;\n",
              "      border: none;\n",
              "      border-radius: 50%;\n",
              "      cursor: pointer;\n",
              "      display: none;\n",
              "      fill: #1967D2;\n",
              "      height: 32px;\n",
              "      padding: 0 0 0 0;\n",
              "      width: 32px;\n",
              "    }\n",
              "\n",
              "    .colab-df-convert:hover {\n",
              "      background-color: #E2EBFA;\n",
              "      box-shadow: 0px 1px 2px rgba(60, 64, 67, 0.3), 0px 1px 3px 1px rgba(60, 64, 67, 0.15);\n",
              "      fill: #174EA6;\n",
              "    }\n",
              "\n",
              "    [theme=dark] .colab-df-convert {\n",
              "      background-color: #3B4455;\n",
              "      fill: #D2E3FC;\n",
              "    }\n",
              "\n",
              "    [theme=dark] .colab-df-convert:hover {\n",
              "      background-color: #434B5C;\n",
              "      box-shadow: 0px 1px 3px 1px rgba(0, 0, 0, 0.15);\n",
              "      filter: drop-shadow(0px 1px 2px rgba(0, 0, 0, 0.3));\n",
              "      fill: #FFFFFF;\n",
              "    }\n",
              "  </style>\n",
              "\n",
              "      <script>\n",
              "        const buttonEl =\n",
              "          document.querySelector('#df-30e6d9c5-29ad-4803-b7de-f43dc1b64e25 button.colab-df-convert');\n",
              "        buttonEl.style.display =\n",
              "          google.colab.kernel.accessAllowed ? 'block' : 'none';\n",
              "\n",
              "        async function convertToInteractive(key) {\n",
              "          const element = document.querySelector('#df-30e6d9c5-29ad-4803-b7de-f43dc1b64e25');\n",
              "          const dataTable =\n",
              "            await google.colab.kernel.invokeFunction('convertToInteractive',\n",
              "                                                     [key], {});\n",
              "          if (!dataTable) return;\n",
              "\n",
              "          const docLinkHtml = 'Like what you see? Visit the ' +\n",
              "            '<a target=\"_blank\" href=https://colab.research.google.com/notebooks/data_table.ipynb>data table notebook</a>'\n",
              "            + ' to learn more about interactive tables.';\n",
              "          element.innerHTML = '';\n",
              "          dataTable['output_type'] = 'display_data';\n",
              "          await google.colab.output.renderOutput(dataTable, element);\n",
              "          const docLink = document.createElement('div');\n",
              "          docLink.innerHTML = docLinkHtml;\n",
              "          element.appendChild(docLink);\n",
              "        }\n",
              "      </script>\n",
              "    </div>\n",
              "  </div>\n",
              "  "
            ]
          },
          "metadata": {},
          "execution_count": 4
        }
      ]
    },
    {
      "cell_type": "code",
      "source": [
        "# Visualize a breathing process\n",
        "def plot_sample(sample_id, df):\n",
        "    df_breath = df[df['breath_id'] == sample_id]\n",
        "    r, c  = df_breath[['R', 'C']].values[0]\n",
        "\n",
        "    cols = ['u_in', 'u_out', 'pressure'] if 'pressure' in df.columns else ['u_in', 'u_out']\n",
        "    \n",
        "    plt.figure(figsize=(12, 4))\n",
        "    for col in ['u_in', 'u_out', 'pressure']:\n",
        "        plt.plot(df_breath['time_step'], df_breath[col], label=col)\n",
        "        \n",
        "    plt.legend()\n",
        "    plt.title(f'Sample {sample_id} - R={r}, C={c}')\n",
        "    \n",
        "for i in df['breath_id'].unique():\n",
        "    plot_sample(i, df_train)"
      ],
      "metadata": {
        "colab": {
          "base_uri": "https://localhost:8080/",
          "height": 1000
        },
        "id": "fQdYZGS30-TK",
        "outputId": "900bca25-5e28-478b-c308-7c682696d1bb"
      },
      "execution_count": null,
      "outputs": [
        {
          "output_type": "display_data",
          "data": {
            "text/plain": [
              "<Figure size 864x288 with 1 Axes>"
            ],
            "image/png": "[encoded data removed]"
          },
          "metadata": {
            "needs_background": "light"
          }
        },
        {
          "output_type": "display_data",
          "data": {
            "text/plain": [
              "<Figure size 864x288 with 1 Axes>"
            ],
            "image/png": "[encoded data removed]"
          },
          "metadata": {
            "needs_background": "light"
          }
        },
        {
          "output_type": "display_data",
          "data": {
            "text/plain": [
              "<Figure size 864x288 with 1 Axes>"
            ],
            "image/png": "[encoded data removed]"
          },
          "metadata": {
            "needs_background": "light"
          }
        },
        {
          "output_type": "display_data",
          "data": {
            "text/plain": [
              "<Figure size 864x288 with 1 Axes>"
            ],
            "image/png": "[encoded data removed]"
          },
          "metadata": {
            "needs_background": "light"
          }
        }
      ]
    },
    {
      "cell_type": "code",
      "source": [
        "df_train.describe()"
      ],
      "metadata": {
        "colab": {
          "base_uri": "https://localhost:8080/",
          "height": 300
        },
        "id": "GXPWi5Qv1Gfj",
        "outputId": "b7716635-3cfa-40a3-9326-d62273dccbc8"
      },
      "execution_count": null,
      "outputs": [
        {
          "output_type": "execute_result",
          "data": {
            "text/plain": [
              "                 id     breath_id             R             C     time_step  \\\n",
              "count  6.036000e+06  6.036000e+06  6.036000e+06  6.036000e+06  6.036000e+06   \n",
              "mean   3.018000e+06  6.283886e+04  2.703618e+01  2.608072e+01  1.307225e+00   \n",
              "std    1.742443e+06  3.633526e+04  1.959549e+01  1.715231e+01  7.659778e-01   \n",
              "min    1.000000e+00  1.000000e+00  5.000000e+00  1.000000e+01  0.000000e+00   \n",
              "25%    1.509001e+06  3.137700e+04  5.000000e+00  1.000000e+01  6.428995e-01   \n",
              "50%    3.018000e+06  6.276550e+04  2.000000e+01  2.000000e+01  1.308123e+00   \n",
              "75%    4.527000e+06  9.430100e+04  5.000000e+01  5.000000e+01  1.965502e+00   \n",
              "max    6.036000e+06  1.257490e+05  5.000000e+01  5.000000e+01  2.937238e+00   \n",
              "\n",
              "               u_in         u_out      pressure  \n",
              "count  6.036000e+06  6.036000e+06  6.036000e+06  \n",
              "mean   7.321615e+00  6.204493e-01  1.122041e+01  \n",
              "std    1.343470e+01  4.852752e-01  8.109703e+00  \n",
              "min    0.000000e+00  0.000000e+00 -1.895744e+00  \n",
              "25%    3.936623e-01  0.000000e+00  6.329607e+00  \n",
              "50%    4.386146e+00  1.000000e+00  7.032628e+00  \n",
              "75%    4.983895e+00  1.000000e+00  1.364103e+01  \n",
              "max    1.000000e+02  1.000000e+00  6.482099e+01  "
            ],
            "text/html": [
              "\n",
              "  <div id=\"df-00d324df-83b0-45ba-acce-a4287f802279\">\n",
              "    <div class=\"colab-df-container\">\n",
              "      <div>\n",
              "<style scoped>\n",
              "    .dataframe tbody tr th:only-of-type {\n",
              "        vertical-align: middle;\n",
              "    }\n",
              "\n",
              "    .dataframe tbody tr th {\n",
              "        vertical-align: top;\n",
              "    }\n",
              "\n",
              "    .dataframe thead th {\n",
              "        text-align: right;\n",
              "    }\n",
              "</style>\n",
              "<table border=\"1\" class=\"dataframe\">\n",
              "  <thead>\n",
              "    <tr style=\"text-align: right;\">\n",
              "      <th></th>\n",
              "      <th>id</th>\n",
              "      <th>breath_id</th>\n",
              "      <th>R</th>\n",
              "      <th>C</th>\n",
              "      <th>time_step</th>\n",
              "      <th>u_in</th>\n",
              "      <th>u_out</th>\n",
              "      <th>pressure</th>\n",
              "    </tr>\n",
              "  </thead>\n",
              "  <tbody>\n",
              "    <tr>\n",
              "      <th>count</th>\n",
              "      <td>6.036000e+06</td>\n",
              "      <td>6.036000e+06</td>\n",
              "      <td>6.036000e+06</td>\n",
              "      <td>6.036000e+06</td>\n",
              "      <td>6.036000e+06</td>\n",
              "      <td>6.036000e+06</td>\n",
              "      <td>6.036000e+06</td>\n",
              "      <td>6.036000e+06</td>\n",
              "    </tr>\n",
              "    <tr>\n",
              "      <th>mean</th>\n",
              "      <td>3.018000e+06</td>\n",
              "      <td>6.283886e+04</td>\n",
              "      <td>2.703618e+01</td>\n",
              "      <td>2.608072e+01</td>\n",
              "      <td>1.307225e+00</td>\n",
              "      <td>7.321615e+00</td>\n",
              "      <td>6.204493e-01</td>\n",
              "      <td>1.122041e+01</td>\n",
              "    </tr>\n",
              "    <tr>\n",
              "      <th>std</th>\n",
              "      <td>1.742443e+06</td>\n",
              "      <td>3.633526e+04</td>\n",
              "      <td>1.959549e+01</td>\n",
              "      <td>1.715231e+01</td>\n",
              "      <td>7.659778e-01</td>\n",
              "      <td>1.343470e+01</td>\n",
              "      <td>4.852752e-01</td>\n",
              "      <td>8.109703e+00</td>\n",
              "    </tr>\n",
              "    <tr>\n",
              "      <th>min</th>\n",
              "      <td>1.000000e+00</td>\n",
              "      <td>1.000000e+00</td>\n",
              "      <td>5.000000e+00</td>\n",
              "      <td>1.000000e+01</td>\n",
              "      <td>0.000000e+00</td>\n",
              "      <td>0.000000e+00</td>\n",
              "      <td>0.000000e+00</td>\n",
              "      <td>-1.895744e+00</td>\n",
              "    </tr>\n",
              "    <tr>\n",
              "      <th>25%</th>\n",
              "      <td>1.509001e+06</td>\n",
              "      <td>3.137700e+04</td>\n",
              "      <td>5.000000e+00</td>\n",
              "      <td>1.000000e+01</td>\n",
              "      <td>6.428995e-01</td>\n",
              "      <td>3.936623e-01</td>\n",
              "      <td>0.000000e+00</td>\n",
              "      <td>6.329607e+00</td>\n",
              "    </tr>\n",
              "    <tr>\n",
              "      <th>50%</th>\n",
              "      <td>3.018000e+06</td>\n",
              "      <td>6.276550e+04</td>\n",
              "      <td>2.000000e+01</td>\n",
              "      <td>2.000000e+01</td>\n",
              "      <td>1.308123e+00</td>\n",
              "      <td>4.386146e+00</td>\n",
              "      <td>1.000000e+00</td>\n",
              "      <td>7.032628e+00</td>\n",
              "    </tr>\n",
              "    <tr>\n",
              "      <th>75%</th>\n",
              "      <td>4.527000e+06</td>\n",
              "      <td>9.430100e+04</td>\n",
              "      <td>5.000000e+01</td>\n",
              "      <td>5.000000e+01</td>\n",
              "      <td>1.965502e+00</td>\n",
              "      <td>4.983895e+00</td>\n",
              "      <td>1.000000e+00</td>\n",
              "      <td>1.364103e+01</td>\n",
              "    </tr>\n",
              "    <tr>\n",
              "      <th>max</th>\n",
              "      <td>6.036000e+06</td>\n",
              "      <td>1.257490e+05</td>\n",
              "      <td>5.000000e+01</td>\n",
              "      <td>5.000000e+01</td>\n",
              "      <td>2.937238e+00</td>\n",
              "      <td>1.000000e+02</td>\n",
              "      <td>1.000000e+00</td>\n",
              "      <td>6.482099e+01</td>\n",
              "    </tr>\n",
              "  </tbody>\n",
              "</table>\n",
              "</div>\n",
              "      <button class=\"colab-df-convert\" onclick=\"convertToInteractive('df-00d324df-83b0-45ba-acce-a4287f802279')\"\n",
              "              title=\"Convert this dataframe to an interactive table.\"\n",
              "              style=\"display:none;\">\n",
              "        \n",
              "  <svg xmlns=\"http://www.w3.org/2000/svg\" height=\"24px\"viewBox=\"0 0 24 24\"\n",
              "       width=\"24px\">\n",
              "    <path d=\"M0 0h24v24H0V0z\" fill=\"none\"/>\n",
              "    <path d=\"M18.56 5.44l.94 2.06.94-2.06 2.06-.94-2.06-.94-.94-2.06-.94 2.06-2.06.94zm-11 1L8.5 8.5l.94-2.06 2.06-.94-2.06-.94L8.5 2.5l-.94 2.06-2.06.94zm10 10l.94 2.06.94-2.06 2.06-.94-2.06-.94-.94-2.06-.94 2.06-2.06.94z\"/><path d=\"M17.41 7.96l-1.37-1.37c-.4-.4-.92-.59-1.43-.59-.52 0-1.04.2-1.43.59L10.3 9.45l-7.72 7.72c-.78.78-.78 2.05 0 2.83L4 21.41c.39.39.9.59 1.41.59.51 0 1.02-.2 1.41-.59l7.78-7.78 2.81-2.81c.8-.78.8-2.07 0-2.86zM5.41 20L4 18.59l7.72-7.72 1.47 1.35L5.41 20z\"/>\n",
              "  </svg>\n",
              "      </button>\n",
              "      \n",
              "  <style>\n",
              "    .colab-df-container {\n",
              "      display:flex;\n",
              "      flex-wrap:wrap;\n",
              "      gap: 12px;\n",
              "    }\n",
              "\n",
              "    .colab-df-convert {\n",
              "      background-color: #E8F0FE;\n",
              "      border: none;\n",
              "      border-radius: 50%;\n",
              "      cursor: pointer;\n",
              "      display: none;\n",
              "      fill: #1967D2;\n",
              "      height: 32px;\n",
              "      padding: 0 0 0 0;\n",
              "      width: 32px;\n",
              "    }\n",
              "\n",
              "    .colab-df-convert:hover {\n",
              "      background-color: #E2EBFA;\n",
              "      box-shadow: 0px 1px 2px rgba(60, 64, 67, 0.3), 0px 1px 3px 1px rgba(60, 64, 67, 0.15);\n",
              "      fill: #174EA6;\n",
              "    }\n",
              "\n",
              "    [theme=dark] .colab-df-convert {\n",
              "      background-color: #3B4455;\n",
              "      fill: #D2E3FC;\n",
              "    }\n",
              "\n",
              "    [theme=dark] .colab-df-convert:hover {\n",
              "      background-color: #434B5C;\n",
              "      box-shadow: 0px 1px 3px 1px rgba(0, 0, 0, 0.15);\n",
              "      filter: drop-shadow(0px 1px 2px rgba(0, 0, 0, 0.3));\n",
              "      fill: #FFFFFF;\n",
              "    }\n",
              "  </style>\n",
              "\n",
              "      <script>\n",
              "        const buttonEl =\n",
              "          document.querySelector('#df-00d324df-83b0-45ba-acce-a4287f802279 button.colab-df-convert');\n",
              "        buttonEl.style.display =\n",
              "          google.colab.kernel.accessAllowed ? 'block' : 'none';\n",
              "\n",
              "        async function convertToInteractive(key) {\n",
              "          const element = document.querySelector('#df-00d324df-83b0-45ba-acce-a4287f802279');\n",
              "          const dataTable =\n",
              "            await google.colab.kernel.invokeFunction('convertToInteractive',\n",
              "                                                     [key], {});\n",
              "          if (!dataTable) return;\n",
              "\n",
              "          const docLinkHtml = 'Like what you see? Visit the ' +\n",
              "            '<a target=\"_blank\" href=https://colab.research.google.com/notebooks/data_table.ipynb>data table notebook</a>'\n",
              "            + ' to learn more about interactive tables.';\n",
              "          element.innerHTML = '';\n",
              "          dataTable['output_type'] = 'display_data';\n",
              "          await google.colab.output.renderOutput(dataTable, element);\n",
              "          const docLink = document.createElement('div');\n",
              "          docLink.innerHTML = docLinkHtml;\n",
              "          element.appendChild(docLink);\n",
              "        }\n",
              "      </script>\n",
              "    </div>\n",
              "  </div>\n",
              "  "
            ]
          },
          "metadata": {},
          "execution_count": 6
        }
      ]
    },
    {
      "cell_type": "markdown",
      "source": [
        "\n",
        "###Data preprocessing"
      ],
      "metadata": {
        "id": "f1fkR5OO8W09"
      }
    },
    {
      "cell_type": "markdown",
      "source": [
        "- Discrete data needs to be coded. OneHot coding is used here\n",
        "- Check whether there are null values. If yes, null values need to be processed"
      ],
      "metadata": {
        "id": "mjzR35dd8jnU"
      }
    },
    {
      "cell_type": "code",
      "source": [
        "\n",
        "df_train['last_value_u_in'] = df_train.groupby('breath_id')['u_in'].transform('last')\n",
        "df_train['u_in_lag1'] = df_train.groupby('breath_id')['u_in'].shift(1)\n",
        "df_train['u_out_lag1'] = df_train.groupby('breath_id')['u_out'].shift(1)\n",
        "df_train['u_in_lag_back1'] = df_train.groupby('breath_id')['u_in'].shift(-1)\n",
        "df_train['u_out_lag_back1'] = df_train.groupby('breath_id')['u_out'].shift(-1)\n",
        "df_train['u_in_lag2'] = df_train.groupby('breath_id')['u_in'].shift(2)\n",
        "df_train['u_out_lag2'] = df_train.groupby('breath_id')['u_out'].shift(2)\n",
        "df_train['u_in_lag_back2'] = df_train.groupby('breath_id')['u_in'].shift(-2)\n",
        "df_train['u_out_lag_back2'] = df_train.groupby('breath_id')['u_out'].shift(-2)\n",
        "df_train['u_in_lag3'] = df_train.groupby('breath_id')['u_in'].shift(3)\n",
        "df_train['u_out_lag3'] = df_train.groupby('breath_id')['u_out'].shift(3)\n",
        "df_train['u_in_lag_back3'] = df_train.groupby('breath_id')['u_in'].shift(-3)\n",
        "df_train['u_out_lag_back3'] = df_train.groupby('breath_id')['u_out'].shift(-3)\n",
        "df_train = df_train.fillna(0)\n",
        "\n",
        "\n",
        "df_train['R__C'] = df_train[\"R\"].astype(str) + '__' + df_train[\"C\"].astype(str)\n",
        "\n",
        "# max value of u_in and u_out for each breath\n",
        "df_train['breath_id__u_in__max'] = df_train.groupby(['breath_id'])['u_in'].transform('max')\n",
        "df_train['breath_id__u_out__max'] = df_train.groupby(['breath_id'])['u_out'].transform('max')\n",
        "\n",
        "# difference between consequitive values\n",
        "df_train['u_in_diff1'] = df_train['u_in'] - df_train['u_in_lag1']\n",
        "df_train['u_out_diff1'] = df_train['u_out'] - df_train['u_out_lag1']\n",
        "df_train['u_in_diff2'] = df_train['u_in'] - df_train['u_in_lag2']\n",
        "df_train['u_out_diff2'] = df_train['u_out'] - df_train['u_out_lag2']\n",
        "\n",
        "# difference between the current value of u_in and the max value within the breath\n",
        "df_train['breath_id__u_in__diffmax'] = df_train.groupby(['breath_id'])['u_in'].transform('max') - df_train['u_in']\n",
        "df_train['breath_id__u_in__diffmean'] = df_train.groupby(['breath_id'])['u_in'].transform('mean') - df_train['u_in']\n",
        "\n",
        "# OHE-HOT \n",
        "df_train = df_train.merge(pd.get_dummies(df_train['R'], prefix='R'), left_index=True, right_index=True).drop(['R'], axis=1)\n",
        "df_train = df_train.merge(pd.get_dummies(df_train['C'], prefix='C'), left_index=True, right_index=True).drop(['C'], axis=1)\n",
        "df_train = df_train.merge(pd.get_dummies(df_train['R__C'], prefix='R__C'), left_index=True, right_index=True).drop(['R__C'], axis=1)\n",
        "\n",
        "\n",
        "df_train['u_in_cumsum'] = df_train.groupby(['breath_id'])['u_in'].cumsum()\n",
        "df_train['time_step_cumsum'] = df_train.groupby(['breath_id'])['time_step'].cumsum()"
      ],
      "metadata": {
        "id": "Wd1M8EmT8xYE"
      },
      "execution_count": null,
      "outputs": []
    },
    {
      "cell_type": "code",
      "source": [
        "# Check whether there is a null value\n",
        "df_train.isnull().sum()"
      ],
      "metadata": {
        "colab": {
          "base_uri": "https://localhost:8080/"
        },
        "id": "zqHh6B5a1N27",
        "outputId": "d9d05abd-f392-439c-eca4-6639e98eaa3b"
      },
      "execution_count": null,
      "outputs": [
        {
          "output_type": "execute_result",
          "data": {
            "text/plain": [
              "id                           0\n",
              "breath_id                    0\n",
              "time_step                    0\n",
              "u_in                         0\n",
              "u_out                        0\n",
              "pressure                     0\n",
              "last_value_u_in              0\n",
              "u_in_lag1                    0\n",
              "u_out_lag1                   0\n",
              "u_in_lag_back1               0\n",
              "u_out_lag_back1              0\n",
              "u_in_lag2                    0\n",
              "u_out_lag2                   0\n",
              "u_in_lag_back2               0\n",
              "u_out_lag_back2              0\n",
              "u_in_lag3                    0\n",
              "u_out_lag3                   0\n",
              "u_in_lag_back3               0\n",
              "u_out_lag_back3              0\n",
              "breath_id__u_in__max         0\n",
              "breath_id__u_out__max        0\n",
              "u_in_diff1                   0\n",
              "u_out_diff1                  0\n",
              "u_in_diff2                   0\n",
              "u_out_diff2                  0\n",
              "breath_id__u_in__diffmax     0\n",
              "breath_id__u_in__diffmean    0\n",
              "R_5                          0\n",
              "R_20                         0\n",
              "R_50                         0\n",
              "C_10                         0\n",
              "C_20                         0\n",
              "C_50                         0\n",
              "R__C_20__10                  0\n",
              "R__C_20__20                  0\n",
              "R__C_20__50                  0\n",
              "R__C_50__10                  0\n",
              "R__C_50__20                  0\n",
              "R__C_50__50                  0\n",
              "R__C_5__10                   0\n",
              "R__C_5__20                   0\n",
              "R__C_5__50                   0\n",
              "u_in_cumsum                  0\n",
              "time_step_cumsum             0\n",
              "dtype: int64"
            ]
          },
          "metadata": {},
          "execution_count": 15
        }
      ]
    },
    {
      "cell_type": "markdown",
      "source": [
        "###Regression analysis and prediction"
      ],
      "metadata": {
        "id": "E5YI90t71n6T"
      }
    },
    {
      "cell_type": "code",
      "source": [
        "from sklearn.model_selection import train_test_split\n",
        "columns = [col for col in df_train.columns if col not in ['id', 'breath_id', 'pressure']]\n",
        "X_train = df_train[columns].values[::10]\n",
        "y_train = df_train['pressure'].values[::10]\n",
        "X_train, X_test, y_train, y_test = train_test_split(X_train, y_train, test_size=0.2)"
      ],
      "metadata": {
        "id": "bFXWiN4B1T8r"
      },
      "execution_count": null,
      "outputs": []
    },
    {
      "cell_type": "code",
      "source": [
        "X_train.shape"
      ],
      "metadata": {
        "colab": {
          "base_uri": "https://localhost:8080/"
        },
        "id": "lqwkm92F2RSR",
        "outputId": "0b91f5c1-4e51-423c-fd51-b6e0d9b4e86e"
      },
      "execution_count": null,
      "outputs": [
        {
          "output_type": "execute_result",
          "data": {
            "text/plain": [
              "(482880, 41)"
            ]
          },
          "metadata": {},
          "execution_count": 17
        }
      ]
    },
    {
      "cell_type": "markdown",
      "source": [
        "**Baseline：KNN**"
      ],
      "metadata": {
        "id": "GekyHr4-57pc"
      }
    },
    {
      "cell_type": "code",
      "source": [
        "import time\n",
        "from sklearn.neighbors import KNeighborsRegressor\n",
        "\n",
        "start_time = time.time()\n",
        "model = KNeighborsRegressor()\n",
        "model.fit(X_train, y_train)\n",
        "# R2 score\n",
        "print(\"train score {}, test score {}\".format(model.score(X_train, y_train),model.score(X_test, y_test)))\n",
        "print(\"--- %s seconds ---\" % (time.time() - start_time))"
      ],
      "metadata": {
        "colab": {
          "base_uri": "https://localhost:8080/"
        },
        "id": "avqONCO12fly",
        "outputId": "4699364f-dc5c-4e48-89a6-4cdc94625ad4"
      },
      "execution_count": null,
      "outputs": [
        {
          "output_type": "stream",
          "name": "stdout",
          "text": [
            "train score 0.9508627064039821, test score 0.9226859016912385\n",
            "--- 7019.4247834682465 seconds ---\n"
          ]
        }
      ]
    },
    {
      "cell_type": "code",
      "source": [
        "# MAE score\n",
        "from sklearn import metrics\n",
        "train_score = metrics.mean_absolute_error(y_train, model.predict(X_train))\n",
        "test_score = metrics.mean_absolute_error(y_test, model.predict(X_test))\n",
        "\n",
        "print(\"train score {}, test score {}\".format(train_score, test_score))"
      ],
      "metadata": {
        "colab": {
          "base_uri": "https://localhost:8080/"
        },
        "id": "LoZSTKjrkrSL",
        "outputId": "06847a42-8bb9-4626-82d8-3f21f7d0fcac"
      },
      "execution_count": null,
      "outputs": [
        {
          "output_type": "stream",
          "name": "stdout",
          "text": [
            "train score 0.13244028322055937, test score 0.3544167067569962\n"
          ]
        }
      ]
    },
    {
      "cell_type": "markdown",
      "source": [
        "**Random forest**"
      ],
      "metadata": {
        "id": "JZnLKlZzfp0a"
      }
    },
    {
      "cell_type": "code",
      "source": [
        "import time\n",
        "from sklearn.ensemble import RandomForestRegressor\n",
        "\n",
        "start_time = time.time()\n",
        "model = RandomForestRegressor()\n",
        "model.fit(X_train, y_train)\n",
        "# R2 score\n",
        "print(\"train score {}, test score {}\".format(model.score(X_train, y_train),model.score(X_test, y_test)))\n",
        "print(\"--- %s seconds ---\" % (time.time() - start_time))"
      ],
      "metadata": {
        "colab": {
          "base_uri": "https://localhost:8080/"
        },
        "id": "CvjK5c17fn0p",
        "outputId": "bf6858b0-cb69-4231-ec85-0d1c0f6bb9d5"
      },
      "execution_count": null,
      "outputs": [
        {
          "output_type": "stream",
          "name": "stdout",
          "text": [
            "train score 0.9990478457111018, test score 0.9932229967351466\n",
            "--- 1839.365404367447 seconds ---\n"
          ]
        }
      ]
    },
    {
      "cell_type": "code",
      "source": [
        "# MAE score\n",
        "from sklearn import metrics\n",
        "train_score = metrics.mean_absolute_error(y_train, model.predict(X_train))\n",
        "test_score = metrics.mean_absolute_error(y_test, model.predict(X_test))\n",
        "\n",
        "print(\"train score {}, test score {}\".format(train_score, test_score))"
      ],
      "metadata": {
        "colab": {
          "base_uri": "https://localhost:8080/"
        },
        "id": "WJJsY0OjfzFr",
        "outputId": "b0909cd6-35e2-4392-ef19-63816441d840"
      },
      "execution_count": null,
      "outputs": [
        {
          "output_type": "stream",
          "name": "stdout",
          "text": [
            "train score 0.13244028322055937, test score 0.3544167067569962\n"
          ]
        }
      ]
    },
    {
      "cell_type": "code",
      "source": [],
      "metadata": {
        "id": "L-PeaFOZ2UmW"
      },
      "execution_count": null,
      "outputs": []
    }
  ]
}